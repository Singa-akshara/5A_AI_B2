{
  "nbformat": 4,
  "nbformat_minor": 0,
  "metadata": {
    "colab": {
      "provenance": []
    },
    "kernelspec": {
      "name": "python3",
      "display_name": "Python 3"
    },
    "language_info": {
      "name": "python"
    }
  },
  "cells": [
    {
      "cell_type": "markdown",
      "source": [],
      "metadata": {
        "id": "5Od0AP2pfBxT"
      }
    },
    {
      "cell_type": "code",
      "source": [
        "print(\"Akshara singa\\n1BM22CS029\")\n",
        "def is_variable(term):\n",
        "    return isinstance(term, str) and term[0].islower()\n",
        "\n",
        "# Check if a variable occurs in a term\n",
        "def occurs_check(var, term):\n",
        "    if is_variable(term):\n",
        "        return var == term\n",
        "    elif isinstance(term, list):  # If term is a compound term (e.g., a function term)\n",
        "        return any(occurs_check(var, t) for t in term)\n",
        "    return False\n",
        "\n",
        "# Unify two terms\n",
        "def unify(Ψ1, Ψ2, subst):\n",
        "    # Step 1: Handle base cases for variables and constants\n",
        "    if is_variable(Ψ1) or is_variable(Ψ2):\n",
        "        # Case when Ψ1 or Ψ2 is a variable\n",
        "        if Ψ1 == Ψ2:\n",
        "            return subst  # No substitution needed\n",
        "        elif is_variable(Ψ1):\n",
        "            if occurs_check(Ψ1, Ψ2):\n",
        "                return \"FAILURE\"  # Occurs check fails\n",
        "            else:\n",
        "                new_subst = [(Ψ1, Ψ2)]\n",
        "                return subst + new_subst  # Apply the substitution\n",
        "        elif is_variable(Ψ2):\n",
        "            if occurs_check(Ψ2, Ψ1):\n",
        "                return \"FAILURE\"  # Occurs check fails\n",
        "            else:\n",
        "                new_subst = [(Ψ2, Ψ1)]\n",
        "                return subst + new_subst  # Apply the substitution\n",
        "\n",
        "    # Step 2: If predicates are not identical\n",
        "    if isinstance(Ψ1, list) and isinstance(Ψ2, list) and Ψ1[0] != Ψ2[0]:\n",
        "        return \"FAILURE\"  # Predicate symbols do not match\n",
        "\n",
        "    # Step 3: Check if the number of arguments are different\n",
        "    if isinstance(Ψ1, list) and isinstance(Ψ2, list) and len(Ψ1) != len(Ψ2):\n",
        "        return \"FAILURE\"  # Number of arguments does not match\n",
        "\n",
        "    # Step 4: Initialize substitution set (SUBST)\n",
        "    if isinstance(Ψ1, list) and isinstance(Ψ2, list):\n",
        "        for i in range(1, len(Ψ1)):  # Iterating through the arguments\n",
        "            # Apply unification on the ith element of both Ψ1 and Ψ2\n",
        "            result = unify(Ψ1[i], Ψ2[i], subst)\n",
        "            if result == \"FAILURE\":\n",
        "                return \"FAILURE\"  # If unification fails at any step\n",
        "            if result != subst:  # If new substitution is found\n",
        "                subst = result  # Apply the new substitution to the current SUBST\n",
        "\n",
        "    return subst\n",
        "\n",
        "# Function to parse user input into terms\n",
        "def parse_input(input_string):\n",
        "    # Example input: \"p x y\"\n",
        "    parts = input_string.split()\n",
        "    predicate = parts[0]\n",
        "    args = parts[1:]\n",
        "    # If arguments are variables, we just return them as is, otherwise just return them\n",
        "    return [predicate] + args\n",
        "\n",
        "# Main function to take user input and unify\n",
        "def main():\n",
        "    print(\"Enter the first term (e.g., 'p x y' for p(x, y)):\")\n",
        "    input_1 = input()\n",
        "    print(\"Enter the second term (e.g., 'p a b' for p(a, b)):\")\n",
        "    input_2 = input()\n",
        "\n",
        "    # Parse the input terms\n",
        "    Ψ1 = parse_input(input_1)\n",
        "    Ψ2 = parse_input(input_2)\n",
        "\n",
        "    # Perform unification\n",
        "    substitution = unify(Ψ1, Ψ2, [])\n",
        "\n",
        "    # Display result\n",
        "    if substitution == \"FAILURE\":\n",
        "        print(\"Unification failed!\")\n",
        "    else:\n",
        "        print(\"Resulting substitution:\", substitution)\n",
        "\n",
        "# Run the main function\n",
        "if __name__ == \"__main__\":\n",
        "    main()"
      ],
      "metadata": {
        "colab": {
          "base_uri": "https://localhost:8080/"
        },
        "id": "LuvICbnmfeG7",
        "outputId": "7c760bd1-af83-437e-f405-639d46aecbd2"
      },
      "execution_count": 7,
      "outputs": [
        {
          "output_type": "stream",
          "name": "stdout",
          "text": [
            "Akshara singa\n",
            "1BM22CS029\n",
            "Enter the first term (e.g., 'p x y' for p(x, y)):\n",
            "friend riya myra\n",
            "Enter the second term (e.g., 'p a b' for p(a, b)):\n",
            "enemy riya myra\n",
            "Unification failed!\n"
          ]
        }
      ]
    }
  ]
}