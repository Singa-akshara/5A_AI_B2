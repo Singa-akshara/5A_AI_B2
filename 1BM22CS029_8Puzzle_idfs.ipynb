{
  "nbformat": 4,
  "nbformat_minor": 0,
  "metadata": {
    "colab": {
      "provenance": []
    },
    "kernelspec": {
      "name": "python3",
      "display_name": "Python 3"
    },
    "language_info": {
      "name": "python"
    }
  },
  "cells": [
    {
      "cell_type": "code",
      "execution_count": null,
      "metadata": {
        "colab": {
          "base_uri": "https://localhost:8080/"
        },
        "id": "YbuIJSR1Zldp",
        "outputId": "e5d65910-0ec0-424b-9f28-a343769ec5d7"
      },
      "outputs": [
        {
          "output_type": "stream",
          "name": "stdout",
          "text": [
            "Akshara Singa\n",
            "1BM22CS029\n",
            "Solution found:\n",
            "[1, 2, 3, 4, 5, 6, 0, 7, 8]\n",
            "[1, 2, 3, 4, 5, 6, 7, 0, 8]\n",
            "[1, 2, 3, 4, 5, 6, 7, 8, 0]\n"
          ]
        }
      ],
      "source": [
        "print('Akshara Singa\\n1BM22CS029')\n",
        "class PuzzleState:\n",
        "    def __init__(self, board, zero_pos, moves=0, prev=None):\n",
        "        self.board = board\n",
        "        self.zero_pos = zero_pos  # Position of the blank tile (0)\n",
        "        self.moves = moves  # Number of moves taken to reach this state\n",
        "        self.prev = prev  # Previous state to trace back the path\n",
        "\n",
        "    def is_goal(self):\n",
        "        return self.board == [1, 2, 3, 4, 5, 6, 7, 8, 0]\n",
        "\n",
        "    def generate_children(self):\n",
        "        children = []\n",
        "        directions = [(-1, 0), (1, 0), (0, -1), (0, 1)]  # Up, Down, Left, Right\n",
        "        row, col = divmod(self.zero_pos, 3)\n",
        "\n",
        "        for dr, dc in directions:\n",
        "            new_row, new_col = row + dr, col + dc\n",
        "            if 0 <= new_row < 3 and 0 <= new_col < 3:\n",
        "                new_zero_pos = new_row * 3 + new_col\n",
        "                new_board = self.board[:]\n",
        "                # Swap the zero with the adjacent tile\n",
        "                new_board[self.zero_pos], new_board[new_zero_pos] = new_board[new_zero_pos], new_board[self.zero_pos]\n",
        "                children.append(PuzzleState(new_board, new_zero_pos, self.moves + 1, self))\n",
        "\n",
        "        return children\n",
        "\n",
        "def depth_limited_search(state, depth):\n",
        "    if state.is_goal():\n",
        "        return state\n",
        "    if depth == 0:\n",
        "        return None\n",
        "\n",
        "    for child in state.generate_children():\n",
        "        result = depth_limited_search(child, depth - 1)\n",
        "        if result is not None:\n",
        "            return result\n",
        "\n",
        "    return None\n",
        "\n",
        "def iterative_deepening_search(initial_state):\n",
        "    depth = 0\n",
        "    while True:\n",
        "        result = depth_limited_search(initial_state, depth)\n",
        "        if result is not None:\n",
        "            return result\n",
        "        depth += 1\n",
        "\n",
        "def print_solution(solution):\n",
        "    path = []\n",
        "    while solution:\n",
        "        path.append(solution.board)\n",
        "        solution = solution.prev\n",
        "    for board in reversed(path):\n",
        "        print(board)\n",
        "\n",
        "# Example usage\n",
        "initial_board = [1, 2, 3, 4, 5, 6, 0, 7, 8]  # Initial state of the puzzle\n",
        "zero_pos = initial_board.index(0)  # Find the position of the blank tile\n",
        "initial_state = PuzzleState(initial_board, zero_pos)\n",
        "\n",
        "solution = iterative_deepening_search(initial_state)\n",
        "if solution:\n",
        "    print(\"Solution found:\")\n",
        "    print_solution(solution)\n",
        "else:\n",
        "    print(\"No solution found\")\n"
      ]
    }
  ]
}