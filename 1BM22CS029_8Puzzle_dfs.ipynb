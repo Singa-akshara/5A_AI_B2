{
  "nbformat": 4,
  "nbformat_minor": 0,
  "metadata": {
    "colab": {
      "provenance": []
    },
    "kernelspec": {
      "name": "python3",
      "display_name": "Python 3"
    },
    "language_info": {
      "name": "python"
    }
  },
  "cells": [
    {
      "cell_type": "code",
      "execution_count": null,
      "metadata": {
        "id": "TkYAQQ2SZ0yN",
        "outputId": "e6452e78-5db0-4ba3-d2c0-007af4b4126d",
        "colab": {
          "base_uri": "https://localhost:8080/"
        }
      },
      "outputs": [
        {
          "output_type": "stream",
          "name": "stdout",
          "text": [
            "Akshara Singa\n",
            "1BM22CS029\n",
            "Solution found with moves: 19992\n",
            "Final board state: [1, 2, 3, 4, 5, 6, 7, 8, 0]\n"
          ]
        }
      ],
      "source": [
        "print('Akshara Singa\\n1BM22CS029')\n",
        "class PuzzleState:\n",
        "    def __init__(self, board, empty_tile_pos, moves=0):\n",
        "        self.board = board\n",
        "        self.empty_tile_pos = empty_tile_pos\n",
        "        self.moves = moves\n",
        "\n",
        "    def is_goal(self):\n",
        "        goal_state = [1, 2, 3, 4, 5, 6, 7, 8, 0]\n",
        "        return self.board == goal_state\n",
        "\n",
        "    def get_possible_moves(self):\n",
        "        row, col = self.empty_tile_pos\n",
        "        possible_moves = []\n",
        "\n",
        "        # Define the possible directions (up, down, left, right)\n",
        "        directions = [(-1, 0), (1, 0), (0, -1), (0, 1)]\n",
        "        for dr, dc in directions:\n",
        "            new_row, new_col = row + dr, col + dc\n",
        "            if 0 <= new_row < 3 and 0 <= new_col < 3:\n",
        "                possible_moves.append((new_row, new_col))\n",
        "\n",
        "        return possible_moves\n",
        "\n",
        "    def make_move(self, new_empty_tile_pos):\n",
        "        new_board = self.board[:]\n",
        "        row, col = self.empty_tile_pos\n",
        "        new_row, new_col = new_empty_tile_pos\n",
        "        # Swap the empty tile with the adjacent tile\n",
        "        new_board[row * 3 + col], new_board[new_row * 3 + new_col] = new_board[new_row * 3 + new_col], new_board[row * 3 + col]\n",
        "        return PuzzleState(new_board, new_empty_tile_pos, self.moves + 1)\n",
        "\n",
        "def depth_first_search(initial_state):\n",
        "    stack = [initial_state]\n",
        "    visited = set()\n",
        "\n",
        "    while stack:\n",
        "        state = stack.pop()\n",
        "\n",
        "        if state.is_goal():\n",
        "            return state\n",
        "\n",
        "        visited.add(tuple(state.board))\n",
        "\n",
        "        for new_empty_tile_pos in state.get_possible_moves():\n",
        "            new_state = state.make_move(new_empty_tile_pos)\n",
        "            if tuple(new_state.board) not in visited:\n",
        "                stack.append(new_state)\n",
        "\n",
        "    return None  # No solution found\n",
        "\n",
        "# Example usage\n",
        "if __name__ == \"__main__\":\n",
        "    initial_board = [1, 2, 3, 4, 0, 5, 6, 7, 8]  # Initial state\n",
        "    empty_tile_pos = (1, 1)  # Position of the empty tile (0)\n",
        "    initial_state = PuzzleState(initial_board, empty_tile_pos)\n",
        "\n",
        "    solution = depth_first_search(initial_state)\n",
        "    if solution:\n",
        "        print(\"Solution found with moves:\", solution.moves)\n",
        "        print(\"Final board state:\", solution.board)\n",
        "    else:\n",
        "        print(\"No solution found.\")\n"
      ]
    }
  ]
}