{
  "nbformat": 4,
  "nbformat_minor": 0,
  "metadata": {
    "colab": {
      "provenance": []
    },
    "kernelspec": {
      "name": "python3",
      "display_name": "Python 3"
    },
    "language_info": {
      "name": "python"
    }
  },
  "cells": [
    {
      "cell_type": "code",
      "execution_count": null,
      "metadata": {
        "colab": {
          "base_uri": "https://localhost:8080/"
        },
        "id": "1zncNUQEbPfZ",
        "outputId": "e6011727-794b-4096-ca5c-01bfb2ea2b4d"
      },
      "outputs": [
        {
          "output_type": "stream",
          "name": "stdout",
          "text": [
            "1BM22CS029\n",
            "Akshara Singa\n",
            "Cleaning quadrant A.\n",
            "Moving to quadrant B.\n",
            "Both quadrants are clean!\n"
          ]
        }
      ],
      "source": [
        "print('1BM22CS029\\nAkshara Singa')\n",
        "class VacuumCleaner:\n",
        "    def __init__(self):\n",
        "\n",
        "        self.environment = {\n",
        "            'A': 'dirty',\n",
        "            'B': 'clean'\n",
        "        }\n",
        "        self.current_quadrant = 'A'  # Start in quadrant A\n",
        "\n",
        "    def clean(self):\n",
        "        \"\"\"Cleans the current quadrant.\"\"\"\n",
        "        print(f\"Cleaning quadrant {self.current_quadrant}.\")\n",
        "        self.environment[self.current_quadrant] = 'clean'\n",
        "\n",
        "    def check_quadrant(self):\n",
        "        \"\"\"Checks the current quadrant for dirt.\"\"\"\n",
        "        if self.environment[self.current_quadrant] == 'dirty':\n",
        "            self.clean()\n",
        "        else:\n",
        "            print(f\"Quadrant {self.current_quadrant} is clean.\")\n",
        "\n",
        "    def switch_quadrant(self):\n",
        "        \"\"\"Switches to the other quadrant.\"\"\"\n",
        "        if self.current_quadrant == 'A':\n",
        "            self.current_quadrant = 'B'\n",
        "        else:\n",
        "            self.current_quadrant = 'A'\n",
        "        print(f\"Moving to quadrant {self.current_quadrant}.\")\n",
        "\n",
        "    def run(self):\n",
        "        \"\"\"Runs the vacuum cleaner until both quadrants are clean.\"\"\"\n",
        "        while 'dirty' in self.environment.values():\n",
        "            self.check_quadrant()\n",
        "            self.switch_quadrant()\n",
        "        print(\"Both quadrants are clean!\")\n",
        "\n",
        "# Example usage\n",
        "if __name__ == \"__main__\":\n",
        "    vacuum = VacuumCleaner()\n",
        "    vacuum.run()\n"
      ]
    }
  ]
}