{
  "nbformat": 4,
  "nbformat_minor": 0,
  "metadata": {
    "colab": {
      "provenance": []
    },
    "kernelspec": {
      "name": "python3",
      "display_name": "Python 3"
    },
    "language_info": {
      "name": "python"
    }
  },
  "cells": [
    {
      "cell_type": "code",
      "execution_count": 1,
      "metadata": {
        "colab": {
          "base_uri": "https://localhost:8080/"
        },
        "id": "wLV9sAieYJWA",
        "outputId": "d468acc5-63da-4c2f-ad42-48a209aa4c83"
      },
      "outputs": [
        {
          "output_type": "stream",
          "name": "stdout",
          "text": [
            "Akshara Singa\n",
            "1BM22CS029\n",
            "Does the knowledge base entail the conclusion? True\n",
            "Truth Table:\n",
            "P | Q | R | KB | Conclusion\n",
            "---------------------------\n",
            "True | True | True | False | True\n",
            "True | True | False | False | False\n",
            "True | False | True | True | True\n",
            "True | False | False | False | False\n",
            "False | True | True | False | True\n",
            "False | True | False | False | False\n",
            "False | False | True | True | True\n",
            "False | False | False | False | False\n"
          ]
        }
      ],
      "source": [
        "print(\"Akshara Singa\\n1BM22CS029\")\n",
        "from itertools import product\n",
        "\n",
        "def logical_implies(antecedent, consequent):\n",
        "    return not antecedent or consequent\n",
        "\n",
        "def display_truth_table(knowledge_base, conclusion, symbols):\n",
        "    print(\"Truth Table:\")\n",
        "    header = \" | \".join(symbols) + \" | KB | Conclusion\"\n",
        "    print(header)\n",
        "    print(\"-\" * len(header))\n",
        "\n",
        "    for truth_values in product([True, False], repeat=len(symbols)):\n",
        "        interpretation = dict(zip(symbols, truth_values))\n",
        "        kb_satisfied = all(statement(interpretation) for statement in knowledge_base)\n",
        "        conclusion_satisfied = conclusion(interpretation)\n",
        "\n",
        "        row = \" | \".join(str(value) for value in truth_values) + f\" | {kb_satisfied} | {conclusion_satisfied}\"\n",
        "        print(row)\n",
        "\n",
        "def evaluate_entailment(knowledge_base, conclusion, symbols):\n",
        "    for truth_values in product([True, False], repeat=len(symbols)):\n",
        "        interpretation = dict(zip(symbols, truth_values))\n",
        "        kb_satisfied = all(statement(interpretation) for statement in knowledge_base)\n",
        "        conclusion_satisfied = conclusion(interpretation)\n",
        "\n",
        "        if kb_satisfied and not conclusion_satisfied:\n",
        "            return False\n",
        "    return True\n",
        "\n",
        "# Define symbols, knowledge base, and conclusion (alpha)\n",
        "symbols = ['P', 'Q', 'R']\n",
        "knowledge_base = [\n",
        "    lambda interpretation: logical_implies(interpretation['Q'], interpretation['P']),\n",
        "    lambda interpretation: logical_implies(interpretation['P'], not interpretation['Q']),\n",
        "    lambda interpretation: interpretation['Q'] or interpretation['R']\n",
        "]\n",
        "conclusion = lambda interpretation: interpretation['R']\n",
        "\n",
        "# Check if knowledge base entails conclusion\n",
        "entails_conclusion = evaluate_entailment(knowledge_base, conclusion, symbols)\n",
        "print(f\"Does the knowledge base entail the conclusion? {entails_conclusion}\")\n",
        "display_truth_table(knowledge_base, conclusion, symbols)\n"
      ]
    },
    {
      "cell_type": "code",
      "source": [
        "print(\"Akshara Singa\\n1BM22CS029\")\n",
        "from itertools import product\n",
        "\n",
        "def logical_implies(antecedent, consequent):\n",
        "    return not antecedent or consequent\n",
        "\n",
        "def display_truth_table(knowledge_base, conclusion, symbols):\n",
        "    print(\"Truth Table:\")\n",
        "    header = \" | \".join(symbols) + \" | KB | Conclusion \"\n",
        "    print(header)\n",
        "    print(\"-\" * len(header))\n",
        "\n",
        "    for truth_values in product([True, False], repeat=len(symbols)):\n",
        "        interpretation = dict(zip(symbols, truth_values))\n",
        "        kb_satisfied = all(statement(interpretation) for statement in knowledge_base)\n",
        "        conclusion_satisfied = conclusion(interpretation)\n",
        "\n",
        "        row = \" | \".join(str(value) for value in truth_values) + f\" | {kb_satisfied} | {conclusion_satisfied}\"\n",
        "        print(row)\n",
        "\n",
        "def evaluate_entailment(knowledge_base, conclusion, symbols):\n",
        "    for truth_values in product([True, False], repeat=len(symbols)):\n",
        "        interpretation = dict(zip(symbols, truth_values))\n",
        "        kb_satisfied = all(statement(interpretation) for statement in knowledge_base)\n",
        "        conclusion_satisfied = conclusion(interpretation)\n",
        "\n",
        "        if kb_satisfied and not conclusion_satisfied:\n",
        "            return False\n",
        "    return True\n",
        "\n",
        "# Define symbols, knowledge base, and conclusion\n",
        "symbols = ['P', 'Q', 'R']\n",
        "knowledge_base = [\n",
        "    lambda interpretation: logical_implies(interpretation['Q'], interpretation['P']),\n",
        "    lambda interpretation: logical_implies(interpretation['P'], not interpretation['Q']),\n",
        "    lambda interpretation: interpretation['Q'] or interpretation['R']\n",
        "]\n",
        "conclusion = lambda interpretation: logical_implies(interpretation['R'], interpretation['P'])\n",
        "\n",
        "# Check if knowledge base entails the conclusion\n",
        "entails_conclusion = evaluate_entailment(knowledge_base, conclusion, symbols)\n",
        "print(f\"Does the knowledge base entail the conclusion? {entails_conclusion}\")\n",
        "display_truth_table(knowledge_base, conclusion, symbols)\n"
      ],
      "metadata": {
        "colab": {
          "base_uri": "https://localhost:8080/"
        },
        "id": "PFi-Zf2gYSTV",
        "outputId": "065e4736-836d-4a38-fe1c-9e9ca1e9787e"
      },
      "execution_count": 2,
      "outputs": [
        {
          "output_type": "stream",
          "name": "stdout",
          "text": [
            "Akshara Singa\n",
            "1BM22CS029\n",
            "Does the knowledge base entail the conclusion? False\n",
            "Truth Table:\n",
            "P | Q | R | KB | Conclusion \n",
            "----------------------------\n",
            "True | True | True | False | True\n",
            "True | True | False | False | True\n",
            "True | False | True | True | True\n",
            "True | False | False | False | True\n",
            "False | True | True | False | False\n",
            "False | True | False | False | True\n",
            "False | False | True | True | False\n",
            "False | False | False | False | True\n"
          ]
        }
      ]
    },
    {
      "cell_type": "code",
      "source": [
        "print(\"Akshara Singa\\n1BM22CS029\")\n",
        "from itertools import product\n",
        "\n",
        "def logical_implies(antecedent, consequent):\n",
        "    return not antecedent or consequent\n",
        "\n",
        "def display_truth_table(knowledge_base, conclusion, symbols):\n",
        "    print(\"Truth Table:\")\n",
        "    header = \" | \".join(symbols) + \" | KB | Conclusion \"\n",
        "    print(header)\n",
        "    print(\"-\" * len(header))\n",
        "\n",
        "    for truth_values in product([True, False], repeat=len(symbols)):\n",
        "        interpretation = dict(zip(symbols, truth_values))\n",
        "        kb_satisfied = all(statement(interpretation) for statement in knowledge_base)\n",
        "        conclusion_satisfied = conclusion(interpretation)\n",
        "\n",
        "        row = \" | \".join(str(value) for value in truth_values) + f\" | {kb_satisfied} | {conclusion_satisfied}\"\n",
        "        print(row)\n",
        "\n",
        "def evaluate_entailment(knowledge_base, conclusion, symbols):\n",
        "    for truth_values in product([True, False], repeat=len(symbols)):\n",
        "        interpretation = dict(zip(symbols, truth_values))\n",
        "        kb_satisfied = all(statement(interpretation) for statement in knowledge_base)\n",
        "        conclusion_satisfied = conclusion(interpretation)\n",
        "\n",
        "        if kb_satisfied and not conclusion_satisfied:\n",
        "            return False\n",
        "    return True\n",
        "\n",
        "# Define symbols, knowledge base, and conclusion\n",
        "symbols = ['P', 'Q', 'R']\n",
        "knowledge_base = [\n",
        "    lambda interpretation: logical_implies(interpretation['Q'], interpretation['P']),\n",
        "    lambda interpretation: logical_implies(interpretation['P'], not interpretation['Q']),\n",
        "    lambda interpretation: interpretation['Q'] or interpretation['R']\n",
        "]\n",
        "conclusion = lambda interpretation: logical_implies(interpretation['Q'], interpretation['R'])\n",
        "\n",
        "# Check if knowledge base entails the conclusion\n",
        "entails_conclusion = evaluate_entailment(knowledge_base, conclusion, symbols)\n",
        "print(f\"Does the knowledge base entail the conclusion? {entails_conclusion}\")\n",
        "display_truth_table(knowledge_base, conclusion, symbols)\n"
      ],
      "metadata": {
        "colab": {
          "base_uri": "https://localhost:8080/"
        },
        "id": "UpT9tOryYSus",
        "outputId": "88f399c6-ff83-4bd0-fdec-e81667f86806"
      },
      "execution_count": 3,
      "outputs": [
        {
          "output_type": "stream",
          "name": "stdout",
          "text": [
            "Akshara Singa\n",
            "1BM22CS029\n",
            "Does the knowledge base entail the conclusion? True\n",
            "Truth Table:\n",
            "P | Q | R | KB | Conclusion \n",
            "----------------------------\n",
            "True | True | True | False | True\n",
            "True | True | False | False | False\n",
            "True | False | True | True | True\n",
            "True | False | False | False | True\n",
            "False | True | True | False | True\n",
            "False | True | False | False | False\n",
            "False | False | True | True | True\n",
            "False | False | False | False | True\n"
          ]
        }
      ]
    }
  ]
}