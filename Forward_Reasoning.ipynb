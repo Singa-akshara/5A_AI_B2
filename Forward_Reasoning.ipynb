{
  "nbformat": 4,
  "nbformat_minor": 0,
  "metadata": {
    "colab": {
      "provenance": []
    },
    "kernelspec": {
      "name": "python3",
      "display_name": "Python 3"
    },
    "language_info": {
      "name": "python"
    }
  },
  "cells": [
    {
      "cell_type": "code",
      "execution_count": 2,
      "metadata": {
        "colab": {
          "base_uri": "https://localhost:8080/"
        },
        "id": "aiqYqpifjC_V",
        "outputId": "5ac975d5-eee4-4e08-eb26-0b0cc083c368"
      },
      "outputs": [
        {
          "output_type": "stream",
          "name": "stdout",
          "text": [
            "Akshara singa\n",
            "1BM22CS029\n",
            "Applying rule: ['Robert is American', 'Nono is enemy of America', 'Missile is a weapon', 'Robert sold missiles to Nono'] => Robert is criminal\n",
            "Current facts: {'Missile is a weapon', 'Nono has some missiles', 'Robert is American', 'Robert is criminal', 'Nono is enemy of America', 'Robert sold missiles to Nono'}\n",
            "No new facts can be derived.\n",
            "Current facts: {'Missile is a weapon', 'Nono has some missiles', 'Robert is American', 'Robert is criminal', 'Nono is enemy of America', 'Robert sold missiles to Nono'}\n",
            "Goal reached: Robert is a criminal.\n"
          ]
        }
      ],
      "source": [
        "print(\"Akshara singa\\n1BM22CS029\")\n",
        "class Rule:\n",
        "    def __init__(self, conditions, conclusion):\n",
        "        self.conditions = conditions  # List of conditions (facts needed)\n",
        "        self.conclusion = conclusion  # Conclusion (new fact derived)\n",
        "\n",
        "    def is_applicable(self, facts):\n",
        "        # Check if all conditions are met (i.e., fact exists in the set of facts)\n",
        "        return all(condition in facts for condition in self.conditions)\n",
        "\n",
        "\n",
        "class ForwardChaining:\n",
        "    def __init__(self, facts, rules):\n",
        "        self.facts = set(facts)  # Initialize facts (known information)\n",
        "        self.rules = rules  # Initialize the rules (conditions -> conclusion)\n",
        "\n",
        "    def apply_rule(self, rule):\n",
        "        # Check if a rule can be applied and add the conclusion to facts\n",
        "        if rule.is_applicable(self.facts):\n",
        "            print(f\"Applying rule: {rule.conditions} => {rule.conclusion}\")\n",
        "            self.facts.add(rule.conclusion)\n",
        "\n",
        "    def run(self):\n",
        "        # Repeatedly apply rules as long as new facts are added\n",
        "        new_fact = True\n",
        "        while new_fact:\n",
        "            new_fact = False\n",
        "            for rule in self.rules:\n",
        "                if rule.is_applicable(self.facts) and rule.conclusion not in self.facts:\n",
        "                    self.apply_rule(rule)\n",
        "                    new_fact = True\n",
        "            if not new_fact:\n",
        "                print(\"No new facts can be derived.\")\n",
        "            print(\"Current facts:\", self.facts)\n",
        "\n",
        "\n",
        "# Define facts\n",
        "initial_facts = [\n",
        "    \"Robert is American\",         # Robert is American\n",
        "    \"Nono is enemy of America\",    # Nono is an enemy of America\n",
        "    \"Missile is a weapon\",        # A missile is a weapon\n",
        "    \"Robert sold missiles to Nono\",  # Robert sold missiles to Nono\n",
        "    \"Nono has some missiles\",      # Nono has missiles\n",
        "]\n",
        "\n",
        "# Define rules (if conditions are met, then conclude the new fact)\n",
        "rules = [\n",
        "    Rule([\"Robert is American\", \"Nono is enemy of America\", \"Missile is a weapon\", \"Robert sold missiles to Nono\"], \"Robert is criminal\"),\n",
        "]\n",
        "\n",
        "# Create the forward chaining engine\n",
        "engine = ForwardChaining(initial_facts, rules)\n",
        "\n",
        "# Run the forward chaining algorithm\n",
        "engine.run()\n",
        "\n",
        "# Check if the goal is achieved\n",
        "if \"Robert is criminal\" in engine.facts:\n",
        "    print(\"Goal reached: Robert is a criminal.\")\n",
        "else:\n",
        "    print(\"Goal not reached.\")\n"
      ]
    }
  ]
}